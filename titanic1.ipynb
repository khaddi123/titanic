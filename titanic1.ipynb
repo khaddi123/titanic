{
  "nbformat": 4,
  "nbformat_minor": 0,
  "metadata": {
    "colab": {
      "provenance": []
    },
    "kernelspec": {
      "name": "python3",
      "display_name": "Python 3"
    },
    "language_info": {
      "name": "python"
    }
  },
  "cells": [
    {
      "cell_type": "code",
      "source": [
        "!pip install pyodbc"
      ],
      "metadata": {
        "colab": {
          "base_uri": "https://localhost:8080/"
        },
        "id": "VE3o4c6Y_-sA",
        "outputId": "f3541b44-faea-4131-8d0a-0d547d7fff4d"
      },
      "execution_count": 1,
      "outputs": [
        {
          "output_type": "stream",
          "name": "stdout",
          "text": [
            "Collecting pyodbc\n",
            "  Downloading pyodbc-5.2.0-cp310-cp310-manylinux_2_17_x86_64.manylinux2014_x86_64.whl.metadata (2.7 kB)\n",
            "Downloading pyodbc-5.2.0-cp310-cp310-manylinux_2_17_x86_64.manylinux2014_x86_64.whl (336 kB)\n",
            "\u001b[?25l   \u001b[90m━━━━━━━━━━━━━━━━━━━━━━━━━━━━━━━━━━━━━━━━\u001b[0m \u001b[32m0.0/336.0 kB\u001b[0m \u001b[31m?\u001b[0m eta \u001b[36m-:--:--\u001b[0m\r\u001b[2K   \u001b[91m━━━━━━━━━━━━━━━━━━━━━━━━━━\u001b[0m\u001b[91m╸\u001b[0m\u001b[90m━━━━━━━━━━━━━\u001b[0m \u001b[32m225.3/336.0 kB\u001b[0m \u001b[31m7.4 MB/s\u001b[0m eta \u001b[36m0:00:01\u001b[0m\r\u001b[2K   \u001b[90m━━━━━━━━━━━━━━━━━━━━━━━━━━━━━━━━━━━━━━━━\u001b[0m \u001b[32m336.0/336.0 kB\u001b[0m \u001b[31m6.7 MB/s\u001b[0m eta \u001b[36m0:00:00\u001b[0m\n",
            "\u001b[?25hInstalling collected packages: pyodbc\n",
            "Successfully installed pyodbc-5.2.0\n"
          ]
        }
      ]
    },
    {
      "cell_type": "code",
      "source": [
        "import pyodbc\n",
        "import pandas as pd\n",
        "\n",
        "# Informations de connexion SQL Server\n",
        "server = '127.0.0.1'  # Adresse de votre serveur SQL Server\n",
        "database = 'TitanicDB'  # Nom de la base de données\n",
        "table_name = 'TitanicData'  # Nom de la table cible\n",
        "trusted_connection = True  # Utiliser l'authentification Windows\n",
        "\n",
        "# Charger le fichier CSV\n",
        "csv_file = 'titanic.csv'  # Chemin vers le fichier CSV\n",
        "df = pd.read_csv(csv_file)\n",
        "\n",
        "# Fonction de connexion à SQL Server\n",
        "def connect_to_sql():\n",
        "    try:\n",
        "        if trusted_connection:\n",
        "            conn = pyodbc.connect(\n",
        "                f\"DRIVER={{ODBC Driver 17 for SQL Server}};SERVER={server};DATABASE={database};Trusted_Connection=yes;\"\n",
        "            )\n",
        "        else:\n",
        "            username = 'root'\n",
        "            password = ''\n",
        "            conn = pyodbc.connect(\n",
        "                f\"DRIVER={{ODBC Driver 17 for SQL Server}};SERVER={server};DATABASE={database};UID={username};PWD={password};\"\n",
        "            )\n",
        "        print(\"Connexion réussie à SQL Server!\")\n",
        "        return conn\n",
        "    except Exception as e:\n",
        "        print(f\"Erreur lors de la connexion à SQL Server : {e}\")\n",
        "        return None\n",
        "\n",
        "# Création de la table dans SQL Server\n",
        "def create_table(cursor):\n",
        "    create_table_query = f'''\n",
        "    CREATE TABLE {table_name} (\n",
        "        PassengerId INT,\n",
        "        Survived INT,\n",
        "        Pclass INT,\n",
        "        Name NVARCHAR(255),\n",
        "        Sex NVARCHAR(50),\n",
        "        Age FLOAT,\n",
        "        SibSp INT,\n",
        "        Parch INT,\n",
        "        Ticket NVARCHAR(50),\n",
        "        Fare FLOAT,\n",
        "        Cabin NVARCHAR(50),\n",
        "        Embarked NVARCHAR(50)\n",
        "    )\n",
        "    '''\n",
        "    try:\n",
        "        cursor.execute(create_table_query)\n",
        "        print(f\"Table '{table_name}' créée avec succès!\")\n",
        "    except Exception as e:\n",
        "        print(f\"Erreur lors de la création de la table : {e}\")\n",
        "\n",
        "# Insérer des données dans SQL Server\n",
        "def insert_data(cursor, df):\n",
        "    try:\n",
        "        for index, row in df.iterrows():\n",
        "            cursor.execute(f'''\n",
        "                INSERT INTO {table_name} (PassengerId, Survived, Pclass, Name, Sex, Age, SibSp, Parch, Ticket, Fare, Cabin, Embarked)\n",
        "                VALUES (?, ?, ?, ?, ?, ?, ?, ?, ?, ?, ?, ?)\n",
        "            ''', row['PassengerId'], row['Survived'], row['Pclass'], row['Name'], row['Sex'], row['Age'], row['SibSp'],\n",
        "               row['Parch'], row['Ticket'], row['Fare'], row['Cabin'], row['Embarked'])\n",
        "        print(\"Données insérées avec succès!\")\n",
        "    except Exception as e:\n",
        "        print(f\"Erreur lors de l'insertion des données : {e}\")\n",
        "\n",
        "# Main\n",
        "conn = connect_to_sql()\n",
        "if conn:\n",
        "    cursor = conn.cursor()\n",
        "    # Créer la table si nécessaire\n",
        "    create_table(cursor)\n",
        "    # Insérer les données du CSV\n",
        "    insert_data(cursor, df)\n",
        "    # Sauvegarder et fermer la connexion\n",
        "    conn.commit()\n",
        "    conn.close()\n",
        "    print(\"Connexion fermée.\")\n"
      ],
      "metadata": {
        "id": "tq4AN_qv_zEf"
      },
      "execution_count": 6,
      "outputs": []
    }
  ]
}